{
 "cells": [
  {
   "cell_type": "markdown",
   "id": "c17de6c8",
   "metadata": {},
   "source": [
    "Project: **Machine Learning Programming Project 4 Part B** \n",
    "<br>\n",
    "Team Members: **Debit Paudel, Kushal Dahal**\n",
    "<br>\n",
    "Github Link: **https://github.com/debit7/Backpropagation_neural_network_learning**"
   ]
  },
  {
   "cell_type": "markdown",
   "id": "dff761f5",
   "metadata": {},
   "source": [
    "To practice the Backpropagation(Neural Network Training) Algorithm, we conducted feedforward, backpropagate and learn for each training sets. We have implemented a dynamic programming skill to conduct this project. We have built three major functions to practice feed_inputs_forward(),back_propagation(), Learn() for the project. Pandas and math are the libraries we have used. Initially we have built a dataframe and provided the learning rate as 0.5 and also the initial weights and values. Two dataframes are created to store and update the values of inputs and weights for initial inputs,hidden layer and output. Hidden layers,Errors and ouptut are provided in the form of list for dynamic programming."
   ]
  },
  {
   "cell_type": "code",
   "execution_count": 1,
   "id": "1c4b238e",
   "metadata": {},
   "outputs": [],
   "source": [
    "import pandas as pd\n",
    "import math as math\n",
    "weights_df=pd.DataFrame([['b0',1,1,0],['l1',1,-1,0],['l2',0.5,2,0],['b1',0,0,1],['h1',0,0,1.5],['h2',0,0,-1]],columns=['x','h1','h2','y'])\n",
    "\n",
    "values_df=pd.DataFrame([['b0',1],['l1',0],['l2',1],['h1',0],['h2',0],['b1',1],['y','0'],['Ey',0],['Eh1',0],['Eh2',0]],columns=['x','values'])\n",
    "initial_inputs=['b0','l1','l2']\n",
    "Hidden_Layer=['b1','h1','h2']\n",
    "Errors=['Ey','Eh1','Eh2']\n",
    "Output=['y']\n",
    "Learning_rate=0.5"
   ]
  },
  {
   "cell_type": "markdown",
   "id": "410b630e",
   "metadata": {},
   "source": [
    "find_values() helps to extract the value of the corresponding inputs."
   ]
  },
  {
   "cell_type": "code",
   "execution_count": 2,
   "id": "7eb0a4d6",
   "metadata": {},
   "outputs": [],
   "source": [
    "def find_values(df,x1):\n",
    "    df.set_index(\"x\", inplace = True)\n",
    "    val=df.loc[x1]['values']\n",
    "    df.reset_index(inplace=True)\n",
    "    return val"
   ]
  },
  {
   "cell_type": "markdown",
   "id": "44ab42c8",
   "metadata": {},
   "source": [
    "update_values() function helps to update the updated value for inputs."
   ]
  },
  {
   "cell_type": "code",
   "execution_count": 3,
   "id": "2ee4d83e",
   "metadata": {},
   "outputs": [],
   "source": [
    "def update_values(df,x1,new_val):\n",
    "    df.loc[df.x == x1,\"values\"] = new_val"
   ]
  },
  {
   "cell_type": "markdown",
   "id": "9e807c8d",
   "metadata": {},
   "source": [
    "find_distance() function extract the distance between the two nodes from the weights_df dataframe."
   ]
  },
  {
   "cell_type": "code",
   "execution_count": 4,
   "id": "0a73f4b2",
   "metadata": {},
   "outputs": [],
   "source": [
    "def find_distance(df,x1,x2):\n",
    "    df.set_index(\"x\", inplace = True)\n",
    "    val=df.loc[x1][x2]\n",
    "    df.reset_index(inplace=True)\n",
    "    return val"
   ]
  },
  {
   "cell_type": "markdown",
   "id": "c37fcada",
   "metadata": {},
   "source": [
    "update_weights() function updates the updated distance values in the weights_df dataframe."
   ]
  },
  {
   "cell_type": "code",
   "execution_count": 5,
   "id": "9f83fc03",
   "metadata": {},
   "outputs": [],
   "source": [
    "def update_weights(df,x1,x2,new_val):\n",
    "    df.loc[df.x == x1,x2] = new_val"
   ]
  },
  {
   "cell_type": "markdown",
   "id": "24edbd5a",
   "metadata": {},
   "source": [
    "step() function performs the calculation for the output of each unit."
   ]
  },
  {
   "cell_type": "code",
   "execution_count": 6,
   "id": "9ffb1234",
   "metadata": {},
   "outputs": [],
   "source": [
    "def step(x):\n",
    "    return round(1/(1+(math.exp(x*-1))),3)"
   ]
  },
  {
   "cell_type": "markdown",
   "id": "e77a0813",
   "metadata": {},
   "source": [
    "Calculate_error() function calculates the error of the final output after input feed forwarding."
   ]
  },
  {
   "cell_type": "code",
   "execution_count": 7,
   "id": "1fdbf825",
   "metadata": {},
   "outputs": [],
   "source": [
    "def Calculate_error(target,value):\n",
    "    return round((1/2)*(target-value)**2,3)"
   ]
  },
  {
   "cell_type": "markdown",
   "id": "5c4787bc",
   "metadata": {},
   "source": [
    "feed_inputs_forward() function propagates the input forward through the network. It inputs the instances and calculate output for each units. This function receives the inputs, weights dataframe, values dataframe, layer and the output. It calculates the input values for hidden layers, output and updates the values in the particular dataframe respectively. "
   ]
  },
  {
   "cell_type": "code",
   "execution_count": 8,
   "id": "dc36d77a",
   "metadata": {},
   "outputs": [],
   "source": [
    "def feed_inputs_forward(inputs,weights_df,values_df,layer,output):\n",
    "    s=find_values(values_df,inputs[1])*find_distance(weights_df,inputs[1],layer[1])+\\\n",
    "    find_values(values_df,inputs[2])*find_distance(weights_df,inputs[2],layer[1])+\\\n",
    "    find_values(values_df,inputs[0])\n",
    "    update_values(values_df,layer[1],step(s))\n",
    "    s=find_values(values_df,inputs[2])*find_distance(weights_df,inputs[2],layer[2])+\\\n",
    "    find_values(values_df,inputs[1])*find_distance(weights_df,inputs[2],layer[1])+\\\n",
    "    find_values(values_df,inputs[0])\n",
    "    update_values(values_df,layer[2],step(s))\n",
    "    s=find_values(values_df,Hidden_Layer[1])*find_distance(weights_df,Hidden_Layer[1],output[0])+\\\n",
    "    find_values(values_df,Hidden_Layer[2])*find_distance(weights_df,Hidden_Layer[2],output[0])+\\\n",
    "    find_values(values_df,Hidden_Layer[0])\n",
    "    # print(s)\n",
    "    update_values(values_df,output[0],step(s))\n",
    "    print('Error y:',Calculate_error(1,find_values(values_df,output[0])))\n",
    "    pass"
   ]
  },
  {
   "cell_type": "markdown",
   "id": "481b34ce",
   "metadata": {},
   "source": [
    "back_propagation() computes and propagates the error backwards. For each output unit and hidden units, it calculates the error and updates in the dataframes respectively."
   ]
  },
  {
   "cell_type": "code",
   "execution_count": 9,
   "id": "691698c3",
   "metadata": {},
   "outputs": [],
   "source": [
    "def back_propagation(values_df,output,target,layer,Errors):\n",
    "    Ey=find_values(values_df,output[0])*(1-find_values(values_df,output[0]))*(target-find_values(values_df,output[0]))\n",
    "    Ey=round(Ey,3)\n",
    "    update_values(values_df,Errors[0],Ey)\n",
    "    c=0\n",
    "    for ly in layer[1:]:\n",
    "        c+=1\n",
    "        z=find_values(values_df,ly)*\\\n",
    "        (1-find_values(values_df,ly))*\\\n",
    "        (find_distance(weights_df,ly,output[0])*\\\n",
    "        Ey)\n",
    "        z=round(z,3)\n",
    "        update_values(values_df,Errors[c],z)\n",
    "\n",
    "    pass"
   ]
  },
  {
   "cell_type": "markdown",
   "id": "2e36c1c1",
   "metadata": {},
   "source": [
    "Learn() function updates the each network weights proportionally with the help of error measure for each unit and the outputs of the units. The weights_df dataframe is updated in this function."
   ]
  },
  {
   "cell_type": "code",
   "execution_count": 10,
   "id": "2a566b73",
   "metadata": {},
   "outputs": [],
   "source": [
    "def Learn(Learning_rate,layer,output,values_df,Errors,weights_df,inputs):\n",
    "    #update weights from hidden layer to output\n",
    "    for lys in layer:\n",
    "            z=find_distance(weights_df,lys,output[0])+\\\n",
    "                Learning_rate*\\\n",
    "                find_values(values_df,Errors[0])*\\\n",
    "                find_values(values_df,lys)\n",
    "            update_weights(weights_df,lys,output[0],round(z,3))\n",
    "    #update hidden layer from initial input to hidden layer\n",
    "    i=0\n",
    "    for lyr in layer[1:]:\n",
    "        i+=1\n",
    "        for inpts in inputs:\n",
    "                z=find_distance(weights_df,inpts,lyr)+\\\n",
    "                    Learning_rate*\\\n",
    "                    find_values(values_df,Errors[i])*\\\n",
    "                    find_values(values_df,inpts)\n",
    "                update_weights(weights_df,inpts,lyr,round(z,3))\n",
    "\n",
    "    pass"
   ]
  },
  {
   "cell_type": "markdown",
   "id": "f5911756",
   "metadata": {},
   "source": [
    "Below we have called the function to complete the process for a single instance.We followed the steps of feed forwarding the inputs, backpropagating the errors and updating the weights(Learn) using feed_inputs_forward(), back_propagation() and Learn() functions. "
   ]
  },
  {
   "cell_type": "code",
   "execution_count": 11,
   "id": "49fd5c47",
   "metadata": {},
   "outputs": [
    {
     "name": "stdout",
     "output_type": "stream",
     "text": [
      "Error y: 0.024\n"
     ]
    }
   ],
   "source": [
    "feed_inputs_forward(initial_inputs,weights_df,values_df,Hidden_Layer,Output)\n",
    "back_propagation(values_df,Output,1,Hidden_Layer,Errors)\n",
    "Learn(Learning_rate,Hidden_Layer,Output,values_df,Errors,weights_df,initial_inputs)"
   ]
  },
  {
   "cell_type": "code",
   "execution_count": 12,
   "id": "553a32ef",
   "metadata": {},
   "outputs": [
    {
     "name": "stdout",
     "output_type": "stream",
     "text": [
      "     x values\n",
      "0   b0      1\n",
      "1   l1      0\n",
      "2   l2      1\n",
      "3   h1  0.818\n",
      "4   h2  0.953\n",
      "5   b1      1\n",
      "6    y  0.781\n",
      "7   Ey  0.037\n",
      "8  Eh1  0.008\n",
      "9  Eh2 -0.002\n"
     ]
    }
   ],
   "source": [
    "print(values_df)"
   ]
  },
  {
   "cell_type": "code",
   "execution_count": 13,
   "id": "34870bc1",
   "metadata": {},
   "outputs": [
    {
     "name": "stdout",
     "output_type": "stream",
     "text": [
      "    x     h1     h2      y\n",
      "0  b0  1.004  0.999  0.000\n",
      "1  l1  1.000 -1.000  0.000\n",
      "2  l2  0.504  1.999  0.000\n",
      "3  b1  0.000  0.000  1.018\n",
      "4  h1  0.000  0.000  1.515\n",
      "5  h2  0.000  0.000 -0.982\n"
     ]
    }
   ],
   "source": [
    "print(weights_df)"
   ]
  },
  {
   "cell_type": "markdown",
   "id": "08eb618c",
   "metadata": {},
   "source": [
    "We have also printed the values and the final weights and found out that all the values and weights exactly matches the tutorial steps, values and weights."
   ]
  },
  {
   "cell_type": "code",
   "execution_count": null,
   "id": "873522b3",
   "metadata": {},
   "outputs": [],
   "source": []
  }
 ],
 "metadata": {
  "kernelspec": {
   "display_name": "Python 3",
   "language": "python",
   "name": "python3"
  },
  "language_info": {
   "codemirror_mode": {
    "name": "ipython",
    "version": 3
   },
   "file_extension": ".py",
   "mimetype": "text/x-python",
   "name": "python",
   "nbconvert_exporter": "python",
   "pygments_lexer": "ipython3",
   "version": "3.8.8"
  }
 },
 "nbformat": 4,
 "nbformat_minor": 5
}
